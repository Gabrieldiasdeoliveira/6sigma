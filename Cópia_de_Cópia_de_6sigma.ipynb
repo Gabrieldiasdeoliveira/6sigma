{
  "nbformat": 4,
  "nbformat_minor": 0,
  "metadata": {
    "colab": {
      "provenance": [],
      "authorship_tag": "ABX9TyPv/oOaUnu+Q6phnOSFVO74",
      "include_colab_link": true
    },
    "kernelspec": {
      "name": "ir",
      "display_name": "R"
    },
    "language_info": {
      "name": "R"
    }
  },
  "cells": [
    {
      "cell_type": "markdown",
      "metadata": {
        "id": "view-in-github",
        "colab_type": "text"
      },
      "source": [
        "<a href=\"https://colab.research.google.com/github/Gabrieldiasdeoliveira/6sigma/blob/main/C%C3%B3pia_de_C%C3%B3pia_de_6sigma.ipynb\" target=\"_parent\"><img src=\"https://colab.research.google.com/assets/colab-badge.svg\" alt=\"Open In Colab\"/></a>"
      ]
    },
    {
      "cell_type": "markdown",
      "source": [
        "# Projeto estatistico para redução de custos e melhorias de processos, atráves da metódologia 6 sigma com DMAIC para dados financeiros da empresa."
      ],
      "metadata": {
        "id": "AjeKuEl9pY_E"
      }
    },
    {
      "cell_type": "markdown",
      "source": [
        "##Etapas do Projeto\n",
        "\n",
        "**Definir:** *Nessa fase, o problema a ser resolvido é claramente definido,\n",
        "incluindo os objetivos e metas a serem alcançados;*\n",
        "\n",
        "**Medir:** *Nessa fase, são coletados dados sobre o processo existente para entender como ele funciona atualmente;*\n",
        "\n",
        "**Analisar:** *Nessa fase, os dados coletados são analisados para identificar as principais causas do problema e as oportunidades de melhoria;*\n",
        "\n",
        "**Melhorar:** *Nessa fase, soluções são desenvolvidas e implementadas para corrigir as causas identificadas e melhorar o processo;*\n",
        "\n",
        "**Controlar:** *Nessa fase, medidas são implementadas para garantir que o processo permaneça em um estado de melhoria contínua e que os objetivos e metas estabelecidos sejam alcançados e mantidos.*"
      ],
      "metadata": {
        "id": "SrV_Njyzqxvx"
      }
    },
    {
      "cell_type": "markdown",
      "source": [
        "**Definir:** *Uma empresa de tecnologia está em busca de melhorias nos seus processos financeiros. Foram disponibilizados os dados financeiros da empresa para análise estatística e, a partir disso, serão aplicadas algumas metodologias estatísticas para tomada de decisão. Eles observaram que existe um problema entre o valor de orçamento previsto e os custos de determinadas atividades. Muitas vezes, os custos ficavam acima do planejado, mas isso só era observado quando se fazia um fechamento geral das contas anualmente, gerando muito impacto na saúde financeira da companhia. O problema foi então passado para o time de estatísticos da empresa, cujo objetivo é melhorar ou criar processos da área para prevenir a perdas.\n",
        "Então foi definido pelo time de especialista que além das tecnicas estatiticas para analise de dados, utilizaremos a metodologia DMAIC e 6 sigma.*\n"
      ],
      "metadata": {
        "id": "PwHHn-EtK1X9"
      }
    },
    {
      "cell_type": "markdown",
      "source": [
        "**Medir:** *Coleta e Geração de dados*"
      ],
      "metadata": {
        "id": "aufIR0UOK_1R"
      }
    },
    {
      "cell_type": "code",
      "source": [
        "#Gerando dados aleatórios de Custo e Orçamento\n",
        "custo_funcionario <- rnorm(13, mean = 70000, sd = 3500)\n",
        "custo_infraestrutura <- rnorm(13, mean = 10000, sd = 2000)\n",
        "custo_tecnologia <- rnorm(13, mean = 30000, sd = 1500)\n",
        "custo_marketing <- rnorm(13, mean = 15000, sd = 750)\n",
        "custo_variavel <- rnorm(13, mean = 10000, sd = 500)\n",
        "orcamento_funcionario <- rnorm(13, mean = 50000, sd = 2500)\n",
        "orcamento_infraestrutura <- rnorm(13, mean = 8000, sd = 400)\n",
        "orcameno_tecnologia <- rnorm(13, mean = 25000, sd = 1250)\n",
        "orcamento_marketing <- rnorm(13, mean = 8000, sd = 400)\n",
        "orcamento_variavel <- rnorm(13, mean = 6000, sd = 300)"
      ],
      "metadata": {
        "id": "ZvrmNQOInP9R"
      },
      "execution_count": 1,
      "outputs": []
    },
    {
      "cell_type": "code",
      "source": [
        "#Período\n",
        "meses <- seq(as.Date(\"2022/03/02\"), as.Date(\"2023/03/03\"), by = \"month\")\n",
        "meses <- format(meses, \"%m-%y\")"
      ],
      "metadata": {
        "id": "4Iln_GiKngcT"
      },
      "execution_count": 2,
      "outputs": []
    },
    {
      "cell_type": "code",
      "source": [
        "# Criação e visualização da base de dados\n",
        "dados <- data.frame(\n",
        "  Custo_com_funcionario = custo_funcionario,\n",
        "  Custo_de_infraestrutura = custo_infraestrutura,\n",
        "  Custo_de_tecnologia = custo_tecnologia,\n",
        "  Custo_de_marketing = custo_marketing,\n",
        "  Custos_variaveis = custo_variavel,\n",
        "  Orcamento_funcionario = orcamento_funcionario,\n",
        "  Orcamento_infraestrutura = orcamento_infraestrutura,\n",
        "  Orcameno_tecnologia = orcameno_tecnologia,\n",
        "  Orcamento_marketing = orcamento_marketing,\n",
        "  Orcamento_variavel = orcamento_variavel,\n",
        "  Mes = meses\n",
        ")\n",
        "head(dados)\n",
        "dim(dados)"
      ],
      "metadata": {
        "colab": {
          "base_uri": "https://localhost:8080/",
          "height": 324
        },
        "id": "jbRm5v7ynzmP",
        "outputId": "34fa0207-3a3e-4312-e146-9bf7de3901a4"
      },
      "execution_count": 3,
      "outputs": [
        {
          "output_type": "display_data",
          "data": {
            "text/html": [
              "<table class=\"dataframe\">\n",
              "<caption>A data.frame: 6 × 11</caption>\n",
              "<thead>\n",
              "\t<tr><th></th><th scope=col>Custo_com_funcionario</th><th scope=col>Custo_de_infraestrutura</th><th scope=col>Custo_de_tecnologia</th><th scope=col>Custo_de_marketing</th><th scope=col>Custos_variaveis</th><th scope=col>Orcamento_funcionario</th><th scope=col>Orcamento_infraestrutura</th><th scope=col>Orcameno_tecnologia</th><th scope=col>Orcamento_marketing</th><th scope=col>Orcamento_variavel</th><th scope=col>Mes</th></tr>\n",
              "\t<tr><th></th><th scope=col>&lt;dbl&gt;</th><th scope=col>&lt;dbl&gt;</th><th scope=col>&lt;dbl&gt;</th><th scope=col>&lt;dbl&gt;</th><th scope=col>&lt;dbl&gt;</th><th scope=col>&lt;dbl&gt;</th><th scope=col>&lt;dbl&gt;</th><th scope=col>&lt;dbl&gt;</th><th scope=col>&lt;dbl&gt;</th><th scope=col>&lt;dbl&gt;</th><th scope=col>&lt;chr&gt;</th></tr>\n",
              "</thead>\n",
              "<tbody>\n",
              "\t<tr><th scope=row>1</th><td>70227.49</td><td> 8945.690</td><td>29964.80</td><td>14982.73</td><td>10134.136</td><td>47378.68</td><td>7972.949</td><td>27853.24</td><td>8053.833</td><td>6259.935</td><td>03-22</td></tr>\n",
              "\t<tr><th scope=row>2</th><td>71805.60</td><td> 9470.758</td><td>27647.68</td><td>15748.07</td><td>10332.109</td><td>52330.65</td><td>8550.893</td><td>25535.99</td><td>8331.168</td><td>6083.958</td><td>04-22</td></tr>\n",
              "\t<tr><th scope=row>3</th><td>71022.31</td><td>10242.408</td><td>29602.37</td><td>14042.41</td><td>10842.408</td><td>51278.44</td><td>7879.118</td><td>22846.78</td><td>8376.028</td><td>5288.420</td><td>05-22</td></tr>\n",
              "\t<tr><th scope=row>4</th><td>69589.81</td><td> 9616.733</td><td>31240.91</td><td>15190.08</td><td> 9564.296</td><td>48611.38</td><td>8107.801</td><td>26247.77</td><td>8223.534</td><td>6169.048</td><td>06-22</td></tr>\n",
              "\t<tr><th scope=row>5</th><td>74898.69</td><td>11091.559</td><td>29806.35</td><td>16681.62</td><td> 9685.674</td><td>51028.18</td><td>7789.054</td><td>24947.06</td><td>8465.824</td><td>6396.341</td><td>07-22</td></tr>\n",
              "\t<tr><th scope=row>6</th><td>74603.77</td><td>13183.083</td><td>32024.07</td><td>14379.45</td><td> 9477.134</td><td>52844.85</td><td>7883.762</td><td>26785.86</td><td>8641.378</td><td>5448.338</td><td>08-22</td></tr>\n",
              "</tbody>\n",
              "</table>\n"
            ],
            "text/markdown": "\nA data.frame: 6 × 11\n\n| <!--/--> | Custo_com_funcionario &lt;dbl&gt; | Custo_de_infraestrutura &lt;dbl&gt; | Custo_de_tecnologia &lt;dbl&gt; | Custo_de_marketing &lt;dbl&gt; | Custos_variaveis &lt;dbl&gt; | Orcamento_funcionario &lt;dbl&gt; | Orcamento_infraestrutura &lt;dbl&gt; | Orcameno_tecnologia &lt;dbl&gt; | Orcamento_marketing &lt;dbl&gt; | Orcamento_variavel &lt;dbl&gt; | Mes &lt;chr&gt; |\n|---|---|---|---|---|---|---|---|---|---|---|---|\n| 1 | 70227.49 |  8945.690 | 29964.80 | 14982.73 | 10134.136 | 47378.68 | 7972.949 | 27853.24 | 8053.833 | 6259.935 | 03-22 |\n| 2 | 71805.60 |  9470.758 | 27647.68 | 15748.07 | 10332.109 | 52330.65 | 8550.893 | 25535.99 | 8331.168 | 6083.958 | 04-22 |\n| 3 | 71022.31 | 10242.408 | 29602.37 | 14042.41 | 10842.408 | 51278.44 | 7879.118 | 22846.78 | 8376.028 | 5288.420 | 05-22 |\n| 4 | 69589.81 |  9616.733 | 31240.91 | 15190.08 |  9564.296 | 48611.38 | 8107.801 | 26247.77 | 8223.534 | 6169.048 | 06-22 |\n| 5 | 74898.69 | 11091.559 | 29806.35 | 16681.62 |  9685.674 | 51028.18 | 7789.054 | 24947.06 | 8465.824 | 6396.341 | 07-22 |\n| 6 | 74603.77 | 13183.083 | 32024.07 | 14379.45 |  9477.134 | 52844.85 | 7883.762 | 26785.86 | 8641.378 | 5448.338 | 08-22 |\n\n",
            "text/latex": "A data.frame: 6 × 11\n\\begin{tabular}{r|lllllllllll}\n  & Custo\\_com\\_funcionario & Custo\\_de\\_infraestrutura & Custo\\_de\\_tecnologia & Custo\\_de\\_marketing & Custos\\_variaveis & Orcamento\\_funcionario & Orcamento\\_infraestrutura & Orcameno\\_tecnologia & Orcamento\\_marketing & Orcamento\\_variavel & Mes\\\\\n  & <dbl> & <dbl> & <dbl> & <dbl> & <dbl> & <dbl> & <dbl> & <dbl> & <dbl> & <dbl> & <chr>\\\\\n\\hline\n\t1 & 70227.49 &  8945.690 & 29964.80 & 14982.73 & 10134.136 & 47378.68 & 7972.949 & 27853.24 & 8053.833 & 6259.935 & 03-22\\\\\n\t2 & 71805.60 &  9470.758 & 27647.68 & 15748.07 & 10332.109 & 52330.65 & 8550.893 & 25535.99 & 8331.168 & 6083.958 & 04-22\\\\\n\t3 & 71022.31 & 10242.408 & 29602.37 & 14042.41 & 10842.408 & 51278.44 & 7879.118 & 22846.78 & 8376.028 & 5288.420 & 05-22\\\\\n\t4 & 69589.81 &  9616.733 & 31240.91 & 15190.08 &  9564.296 & 48611.38 & 8107.801 & 26247.77 & 8223.534 & 6169.048 & 06-22\\\\\n\t5 & 74898.69 & 11091.559 & 29806.35 & 16681.62 &  9685.674 & 51028.18 & 7789.054 & 24947.06 & 8465.824 & 6396.341 & 07-22\\\\\n\t6 & 74603.77 & 13183.083 & 32024.07 & 14379.45 &  9477.134 & 52844.85 & 7883.762 & 26785.86 & 8641.378 & 5448.338 & 08-22\\\\\n\\end{tabular}\n",
            "text/plain": [
              "  Custo_com_funcionario Custo_de_infraestrutura Custo_de_tecnologia\n",
              "1 70227.49               8945.690               29964.80           \n",
              "2 71805.60               9470.758               27647.68           \n",
              "3 71022.31              10242.408               29602.37           \n",
              "4 69589.81               9616.733               31240.91           \n",
              "5 74898.69              11091.559               29806.35           \n",
              "6 74603.77              13183.083               32024.07           \n",
              "  Custo_de_marketing Custos_variaveis Orcamento_funcionario\n",
              "1 14982.73           10134.136        47378.68             \n",
              "2 15748.07           10332.109        52330.65             \n",
              "3 14042.41           10842.408        51278.44             \n",
              "4 15190.08            9564.296        48611.38             \n",
              "5 16681.62            9685.674        51028.18             \n",
              "6 14379.45            9477.134        52844.85             \n",
              "  Orcamento_infraestrutura Orcameno_tecnologia Orcamento_marketing\n",
              "1 7972.949                 27853.24            8053.833           \n",
              "2 8550.893                 25535.99            8331.168           \n",
              "3 7879.118                 22846.78            8376.028           \n",
              "4 8107.801                 26247.77            8223.534           \n",
              "5 7789.054                 24947.06            8465.824           \n",
              "6 7883.762                 26785.86            8641.378           \n",
              "  Orcamento_variavel Mes  \n",
              "1 6259.935           03-22\n",
              "2 6083.958           04-22\n",
              "3 5288.420           05-22\n",
              "4 6169.048           06-22\n",
              "5 6396.341           07-22\n",
              "6 5448.338           08-22"
            ]
          },
          "metadata": {}
        },
        {
          "output_type": "display_data",
          "data": {
            "text/html": [
              "<style>\n",
              ".list-inline {list-style: none; margin:0; padding: 0}\n",
              ".list-inline>li {display: inline-block}\n",
              ".list-inline>li:not(:last-child)::after {content: \"\\00b7\"; padding: 0 .5ex}\n",
              "</style>\n",
              "<ol class=list-inline><li>13</li><li>11</li></ol>\n"
            ],
            "text/markdown": "1. 13\n2. 11\n\n\n",
            "text/latex": "\\begin{enumerate*}\n\\item 13\n\\item 11\n\\end{enumerate*}\n",
            "text/plain": [
              "[1] 13 11"
            ]
          },
          "metadata": {}
        }
      ]
    },
    {
      "cell_type": "code",
      "source": [
        "library(dplyr)"
      ],
      "metadata": {
        "id": "Ao4_6dNMozZu",
        "colab": {
          "base_uri": "https://localhost:8080/"
        },
        "outputId": "e18b2406-ecd8-4fee-a82f-f2e68ffdcb1f"
      },
      "execution_count": 4,
      "outputs": [
        {
          "output_type": "stream",
          "name": "stderr",
          "text": [
            "\n",
            "Attaching package: ‘dplyr’\n",
            "\n",
            "\n",
            "The following objects are masked from ‘package:stats’:\n",
            "\n",
            "    filter, lag\n",
            "\n",
            "\n",
            "The following objects are masked from ‘package:base’:\n",
            "\n",
            "    intersect, setdiff, setequal, union\n",
            "\n",
            "\n"
          ]
        }
      ]
    },
    {
      "cell_type": "code",
      "source": [
        "# Adição de duas novas colunas com a soma do Orçamento e do Custo\n",
        "dados <- dados %>%\n",
        "  mutate(Custo_total = rowSums(select(., starts_with(\"Custo\"))),\n",
        "         Orcamento_total = rowSums(select(., starts_with(\"Orcamento\"))))\n",
        "\n",
        "head(dados)\n"
      ],
      "metadata": {
        "colab": {
          "base_uri": "https://localhost:8080/",
          "height": 306
        },
        "id": "c4FAvrfYov7N",
        "outputId": "fa0279b6-6fe6-4a2f-ea13-f66943ce5a19"
      },
      "execution_count": 5,
      "outputs": [
        {
          "output_type": "display_data",
          "data": {
            "text/html": [
              "<table class=\"dataframe\">\n",
              "<caption>A data.frame: 6 × 13</caption>\n",
              "<thead>\n",
              "\t<tr><th></th><th scope=col>Custo_com_funcionario</th><th scope=col>Custo_de_infraestrutura</th><th scope=col>Custo_de_tecnologia</th><th scope=col>Custo_de_marketing</th><th scope=col>Custos_variaveis</th><th scope=col>Orcamento_funcionario</th><th scope=col>Orcamento_infraestrutura</th><th scope=col>Orcameno_tecnologia</th><th scope=col>Orcamento_marketing</th><th scope=col>Orcamento_variavel</th><th scope=col>Mes</th><th scope=col>Custo_total</th><th scope=col>Orcamento_total</th></tr>\n",
              "\t<tr><th></th><th scope=col>&lt;dbl&gt;</th><th scope=col>&lt;dbl&gt;</th><th scope=col>&lt;dbl&gt;</th><th scope=col>&lt;dbl&gt;</th><th scope=col>&lt;dbl&gt;</th><th scope=col>&lt;dbl&gt;</th><th scope=col>&lt;dbl&gt;</th><th scope=col>&lt;dbl&gt;</th><th scope=col>&lt;dbl&gt;</th><th scope=col>&lt;dbl&gt;</th><th scope=col>&lt;chr&gt;</th><th scope=col>&lt;dbl&gt;</th><th scope=col>&lt;dbl&gt;</th></tr>\n",
              "</thead>\n",
              "<tbody>\n",
              "\t<tr><th scope=row>1</th><td>70227.49</td><td> 8945.690</td><td>29964.80</td><td>14982.73</td><td>10134.136</td><td>47378.68</td><td>7972.949</td><td>27853.24</td><td>8053.833</td><td>6259.935</td><td>03-22</td><td>134254.8</td><td>69665.39</td></tr>\n",
              "\t<tr><th scope=row>2</th><td>71805.60</td><td> 9470.758</td><td>27647.68</td><td>15748.07</td><td>10332.109</td><td>52330.65</td><td>8550.893</td><td>25535.99</td><td>8331.168</td><td>6083.958</td><td>04-22</td><td>135004.2</td><td>75296.67</td></tr>\n",
              "\t<tr><th scope=row>3</th><td>71022.31</td><td>10242.408</td><td>29602.37</td><td>14042.41</td><td>10842.408</td><td>51278.44</td><td>7879.118</td><td>22846.78</td><td>8376.028</td><td>5288.420</td><td>05-22</td><td>135751.9</td><td>72822.01</td></tr>\n",
              "\t<tr><th scope=row>4</th><td>69589.81</td><td> 9616.733</td><td>31240.91</td><td>15190.08</td><td> 9564.296</td><td>48611.38</td><td>8107.801</td><td>26247.77</td><td>8223.534</td><td>6169.048</td><td>06-22</td><td>135201.8</td><td>71111.76</td></tr>\n",
              "\t<tr><th scope=row>5</th><td>74898.69</td><td>11091.559</td><td>29806.35</td><td>16681.62</td><td> 9685.674</td><td>51028.18</td><td>7789.054</td><td>24947.06</td><td>8465.824</td><td>6396.341</td><td>07-22</td><td>142163.9</td><td>73679.40</td></tr>\n",
              "\t<tr><th scope=row>6</th><td>74603.77</td><td>13183.083</td><td>32024.07</td><td>14379.45</td><td> 9477.134</td><td>52844.85</td><td>7883.762</td><td>26785.86</td><td>8641.378</td><td>5448.338</td><td>08-22</td><td>143667.5</td><td>74818.33</td></tr>\n",
              "</tbody>\n",
              "</table>\n"
            ],
            "text/markdown": "\nA data.frame: 6 × 13\n\n| <!--/--> | Custo_com_funcionario &lt;dbl&gt; | Custo_de_infraestrutura &lt;dbl&gt; | Custo_de_tecnologia &lt;dbl&gt; | Custo_de_marketing &lt;dbl&gt; | Custos_variaveis &lt;dbl&gt; | Orcamento_funcionario &lt;dbl&gt; | Orcamento_infraestrutura &lt;dbl&gt; | Orcameno_tecnologia &lt;dbl&gt; | Orcamento_marketing &lt;dbl&gt; | Orcamento_variavel &lt;dbl&gt; | Mes &lt;chr&gt; | Custo_total &lt;dbl&gt; | Orcamento_total &lt;dbl&gt; |\n|---|---|---|---|---|---|---|---|---|---|---|---|---|---|\n| 1 | 70227.49 |  8945.690 | 29964.80 | 14982.73 | 10134.136 | 47378.68 | 7972.949 | 27853.24 | 8053.833 | 6259.935 | 03-22 | 134254.8 | 69665.39 |\n| 2 | 71805.60 |  9470.758 | 27647.68 | 15748.07 | 10332.109 | 52330.65 | 8550.893 | 25535.99 | 8331.168 | 6083.958 | 04-22 | 135004.2 | 75296.67 |\n| 3 | 71022.31 | 10242.408 | 29602.37 | 14042.41 | 10842.408 | 51278.44 | 7879.118 | 22846.78 | 8376.028 | 5288.420 | 05-22 | 135751.9 | 72822.01 |\n| 4 | 69589.81 |  9616.733 | 31240.91 | 15190.08 |  9564.296 | 48611.38 | 8107.801 | 26247.77 | 8223.534 | 6169.048 | 06-22 | 135201.8 | 71111.76 |\n| 5 | 74898.69 | 11091.559 | 29806.35 | 16681.62 |  9685.674 | 51028.18 | 7789.054 | 24947.06 | 8465.824 | 6396.341 | 07-22 | 142163.9 | 73679.40 |\n| 6 | 74603.77 | 13183.083 | 32024.07 | 14379.45 |  9477.134 | 52844.85 | 7883.762 | 26785.86 | 8641.378 | 5448.338 | 08-22 | 143667.5 | 74818.33 |\n\n",
            "text/latex": "A data.frame: 6 × 13\n\\begin{tabular}{r|lllllllllllll}\n  & Custo\\_com\\_funcionario & Custo\\_de\\_infraestrutura & Custo\\_de\\_tecnologia & Custo\\_de\\_marketing & Custos\\_variaveis & Orcamento\\_funcionario & Orcamento\\_infraestrutura & Orcameno\\_tecnologia & Orcamento\\_marketing & Orcamento\\_variavel & Mes & Custo\\_total & Orcamento\\_total\\\\\n  & <dbl> & <dbl> & <dbl> & <dbl> & <dbl> & <dbl> & <dbl> & <dbl> & <dbl> & <dbl> & <chr> & <dbl> & <dbl>\\\\\n\\hline\n\t1 & 70227.49 &  8945.690 & 29964.80 & 14982.73 & 10134.136 & 47378.68 & 7972.949 & 27853.24 & 8053.833 & 6259.935 & 03-22 & 134254.8 & 69665.39\\\\\n\t2 & 71805.60 &  9470.758 & 27647.68 & 15748.07 & 10332.109 & 52330.65 & 8550.893 & 25535.99 & 8331.168 & 6083.958 & 04-22 & 135004.2 & 75296.67\\\\\n\t3 & 71022.31 & 10242.408 & 29602.37 & 14042.41 & 10842.408 & 51278.44 & 7879.118 & 22846.78 & 8376.028 & 5288.420 & 05-22 & 135751.9 & 72822.01\\\\\n\t4 & 69589.81 &  9616.733 & 31240.91 & 15190.08 &  9564.296 & 48611.38 & 8107.801 & 26247.77 & 8223.534 & 6169.048 & 06-22 & 135201.8 & 71111.76\\\\\n\t5 & 74898.69 & 11091.559 & 29806.35 & 16681.62 &  9685.674 & 51028.18 & 7789.054 & 24947.06 & 8465.824 & 6396.341 & 07-22 & 142163.9 & 73679.40\\\\\n\t6 & 74603.77 & 13183.083 & 32024.07 & 14379.45 &  9477.134 & 52844.85 & 7883.762 & 26785.86 & 8641.378 & 5448.338 & 08-22 & 143667.5 & 74818.33\\\\\n\\end{tabular}\n",
            "text/plain": [
              "  Custo_com_funcionario Custo_de_infraestrutura Custo_de_tecnologia\n",
              "1 70227.49               8945.690               29964.80           \n",
              "2 71805.60               9470.758               27647.68           \n",
              "3 71022.31              10242.408               29602.37           \n",
              "4 69589.81               9616.733               31240.91           \n",
              "5 74898.69              11091.559               29806.35           \n",
              "6 74603.77              13183.083               32024.07           \n",
              "  Custo_de_marketing Custos_variaveis Orcamento_funcionario\n",
              "1 14982.73           10134.136        47378.68             \n",
              "2 15748.07           10332.109        52330.65             \n",
              "3 14042.41           10842.408        51278.44             \n",
              "4 15190.08            9564.296        48611.38             \n",
              "5 16681.62            9685.674        51028.18             \n",
              "6 14379.45            9477.134        52844.85             \n",
              "  Orcamento_infraestrutura Orcameno_tecnologia Orcamento_marketing\n",
              "1 7972.949                 27853.24            8053.833           \n",
              "2 8550.893                 25535.99            8331.168           \n",
              "3 7879.118                 22846.78            8376.028           \n",
              "4 8107.801                 26247.77            8223.534           \n",
              "5 7789.054                 24947.06            8465.824           \n",
              "6 7883.762                 26785.86            8641.378           \n",
              "  Orcamento_variavel Mes   Custo_total Orcamento_total\n",
              "1 6259.935           03-22 134254.8    69665.39       \n",
              "2 6083.958           04-22 135004.2    75296.67       \n",
              "3 5288.420           05-22 135751.9    72822.01       \n",
              "4 6169.048           06-22 135201.8    71111.76       \n",
              "5 6396.341           07-22 142163.9    73679.40       \n",
              "6 5448.338           08-22 143667.5    74818.33       "
            ]
          },
          "metadata": {}
        }
      ]
    },
    {
      "cell_type": "markdown",
      "source": [
        "**Analisar:** *Nessa fase, os dados coletados são analisados para identificar as principais causas do problema e as oportunidades de melhoria;*\n"
      ],
      "metadata": {
        "id": "QNvpUr8hL2Rb"
      }
    },
    {
      "cell_type": "code",
      "source": [
        "mean(dados$Orcamento_total)"
      ],
      "metadata": {
        "colab": {
          "base_uri": "https://localhost:8080/",
          "height": 34
        },
        "id": "Xf4DfssMf1vi",
        "outputId": "7af243f9-7fe5-49b4-8c95-13e6006d72e7"
      },
      "execution_count": 6,
      "outputs": [
        {
          "output_type": "display_data",
          "data": {
            "text/html": [
              "72511.9218169903"
            ],
            "text/markdown": "72511.9218169903",
            "text/latex": "72511.9218169903",
            "text/plain": [
              "[1] 72511.92"
            ]
          },
          "metadata": {}
        }
      ]
    },
    {
      "cell_type": "markdown",
      "source": [
        "*Foram escolhidas as variaveis Custo e Orçamento total, apenas para fim de estudo.*"
      ],
      "metadata": {
        "id": "517WnyQsL6kh"
      }
    },
    {
      "cell_type": "code",
      "source": [
        "library(ggplot2)\n",
        "\n",
        "# Boxplot para Custos_total\n",
        "ggplot(dados, aes(y = Custo_total)) +\n",
        "  geom_boxplot() +\n",
        "  labs(y = \"Custo Total\")\n",
        "\n",
        "# Boxplot para Orcamento_total\n",
        "ggplot(dados, aes(y = Orcamento_total)) +\n",
        "  geom_boxplot() +\n",
        "  labs(y = \"Orçamento Total\")"
      ],
      "metadata": {
        "id": "QjOuXI9h2EZP",
        "colab": {
          "base_uri": "https://localhost:8080/",
          "height": 857
        },
        "outputId": "e128a2c2-4658-488e-9fe5-4219efacb458"
      },
      "execution_count": 7,
      "outputs": [
        {
          "output_type": "display_data",
          "data": {
            "text/plain": [
              "plot without title"
            ],
            "image/png": "[encoded data removed]"
          },
          "metadata": {
            "image/png": {
              "width": 420,
              "height": 420
            }
          }
        },
        {
          "output_type": "display_data",
          "data": {
            "text/plain": [
              "plot without title"
            ],
            "image/png": "[encoded data removed]"
          },
          "metadata": {
            "image/png": {
              "width": 420,
              "height": 420
            }
          }
        }
      ]
    },
    {
      "cell_type": "code",
      "source": [
        "attach(dados)"
      ],
      "metadata": {
        "id": "cnpxfC0M_a6S"
      },
      "execution_count": 9,
      "outputs": []
    },
    {
      "cell_type": "code",
      "source": [
        "summary(Custo_total)\n",
        "summary(Orcamento_total)"
      ],
      "metadata": {
        "colab": {
          "base_uri": "https://localhost:8080/",
          "height": 86
        },
        "id": "sDKC3HY637Ce",
        "outputId": "5294941d-4d62-4537-8e24-f1dc85100d13"
      },
      "execution_count": 10,
      "outputs": [
        {
          "output_type": "display_data",
          "data": {
            "text/plain": [
              "   Min. 1st Qu.  Median    Mean 3rd Qu.    Max. \n",
              " 129910  134255  135202  135882  136692  143668 "
            ]
          },
          "metadata": {}
        },
        {
          "output_type": "display_data",
          "data": {
            "text/plain": [
              "   Min. 1st Qu.  Median    Mean 3rd Qu.    Max. \n",
              "  69665   71112   72763   72512   73679   75297 "
            ]
          },
          "metadata": {}
        }
      ]
    },
    {
      "cell_type": "code",
      "source": [
        "# Média e desvio padrão das variáveis\n",
        "mean_custos <- apply(dados[, 1:5], 2, mean)\n",
        "sd_custos <- apply(dados[, 1:5], 2, sd)\n",
        "mean_orcamentos <- apply(dados[, 6:10], 2, mean)\n",
        "sd_orcamentos <- apply(dados[, 6:10], 2, sd)\n",
        "\n",
        "# Valores ideais de orçamento e custo\n",
        "ideal_custos <- c(70000, 10000, 30000, 15000, 10000)\n",
        "ideal_orcamentos <- c(50000, 8000, 25000, 8000, 6000)\n",
        "\n",
        "# Comparação com os valores ideais\n",
        "comp_custos <- round((mean_custos - ideal_custos)/ideal_custos * 100, 2)\n",
        "comp_orcamentos <- round((mean_orcamentos - ideal_orcamentos)/ideal_orcamentos * 100, 2)\n",
        "\n",
        "# Criar a tabela\n",
        "tabela <- data.frame(Variável = c(\"Custo 1\", \"Custo 2\", \"Custo 3\", \"Custo 4\",\n",
        "\"Custo 5\", \"Orçamento 1\", \"Orçamento 2\", \"Orçamento 3\", \"Orçamento 4\", \"Orçamento 5\"),\n",
        "                     Média = c(mean_custos, mean_orcamentos),\n",
        "                     \"Desvio Padrão\" = c(sd_custos, sd_orcamentos),\n",
        "                     \"Valor Ideal\" = c(ideal_custos, ideal_orcamentos),\n",
        "                     \"% de diferença\" = c(comp_custos, comp_orcamentos))\n",
        "\n",
        "# Exibir a tabela\n",
        "print(tabela)\n",
        "\n",
        "\n",
        "#A diferença apresentada na tabela \"% de diferença\" é o resultado da comparação\n",
        "# entre a média dos valores observados para cada variável (Custos e Orçamento)\n",
        "# com o valor ideal estabelecido para cada uma delas."
      ],
      "metadata": {
        "colab": {
          "base_uri": "https://localhost:8080/"
        },
        "id": "fQ6kbgEPJRt5",
        "outputId": "7e5006a1-4b77-4558-ec7e-ae7c1cfa9375"
      },
      "execution_count": 11,
      "outputs": [
        {
          "output_type": "stream",
          "name": "stdout",
          "text": [
            "                            Variável     Média Desvio.Padrão Valor.Ideal\n",
            "Custo_com_funcionario        Custo 1 69953.019     3072.8117       70000\n",
            "Custo_de_infraestrutura      Custo 2 10439.077     1258.3949       10000\n",
            "Custo_de_tecnologia          Custo 3 30396.215     1415.6776       30000\n",
            "Custo_de_marketing           Custo 4 15232.290      843.2119       15000\n",
            "Custos_variaveis             Custo 5  9861.160      471.3585       10000\n",
            "Orcamento_funcionario    Orçamento 1 50639.925     1693.6682       50000\n",
            "Orcamento_infraestrutura Orçamento 2  8021.067      326.8885        8000\n",
            "Orcameno_tecnologia      Orçamento 3 25003.683     1775.4391       25000\n",
            "Orcamento_marketing      Orçamento 4  8016.799      454.3832        8000\n",
            "Orcamento_variavel       Orçamento 5  5834.131      424.8788        6000\n",
            "                         X..de.diferença\n",
            "Custo_com_funcionario              -0.07\n",
            "Custo_de_infraestrutura             4.39\n",
            "Custo_de_tecnologia                 1.32\n",
            "Custo_de_marketing                  1.55\n",
            "Custos_variaveis                   -1.39\n",
            "Orcamento_funcionario               1.28\n",
            "Orcamento_infraestrutura            0.26\n",
            "Orcameno_tecnologia                 0.01\n",
            "Orcamento_marketing                 0.21\n",
            "Orcamento_variavel                 -2.76\n"
          ]
        }
      ]
    },
    {
      "cell_type": "markdown",
      "source": [
        "**Etapa 3 -** *Realizar uma análise de dados: Utilizar as informações geradas para realizar uma análise de dados exploratória e identificar as tendências, distribuições e padrões dos dados.*"
      ],
      "metadata": {
        "id": "JRYUW1VTPJrf"
      }
    },
    {
      "cell_type": "code",
      "source": [
        "install.packages(\"zoo\")\n",
        "library(zoo)\n"
      ],
      "metadata": {
        "id": "rsTW-oOF1ir0",
        "colab": {
          "base_uri": "https://localhost:8080/"
        },
        "outputId": "e579614a-4c72-4cde-b36b-f210c4f42770"
      },
      "execution_count": 12,
      "outputs": [
        {
          "output_type": "stream",
          "name": "stderr",
          "text": [
            "Installing package into ‘/usr/local/lib/R/site-library’\n",
            "(as ‘lib’ is unspecified)\n",
            "\n",
            "\n",
            "Attaching package: ‘zoo’\n",
            "\n",
            "\n",
            "The following objects are masked from ‘package:base’:\n",
            "\n",
            "    as.Date, as.Date.numeric\n",
            "\n",
            "\n"
          ]
        }
      ]
    },
    {
      "cell_type": "code",
      "source": [
        "media_3_meses <- rollapplyr(dados$Custo_total, 3, mean, fill = NA)"
      ],
      "metadata": {
        "id": "6dDkIPvTBPQs"
      },
      "execution_count": 13,
      "outputs": []
    },
    {
      "cell_type": "code",
      "source": [
        "limite_controle <- media_3_meses[length(media_3_meses)] + 1.7*sd(tail(Custo_total, 3))\n"
      ],
      "metadata": {
        "id": "tjGMe5S75I2a"
      },
      "execution_count": 14,
      "outputs": []
    },
    {
      "cell_type": "markdown",
      "source": [
        "*Fiz um teste utilizando 1.5 desvios apenas para teste*"
      ],
      "metadata": {
        "id": "269y113q1uei"
      }
    },
    {
      "cell_type": "code",
      "source": [
        "# gerar dados aleatórios para custo_total\n",
        "set.seed(123) # definir semente para reproduzir resultados\n",
        "Custo_total <- rnorm(12, mean = 10000, sd = 500)\n",
        "\n",
        "# calcular média dos últimos 3 meses\n",
        "media_3_meses <- mean(tail(Custo_total, 3))\n",
        "\n",
        "# definir limite de controle com base no 6 sigma\n",
        "limite_controle <- media_3_meses + 1.5*sd(tail(Custo_total, 3))\n",
        "\n",
        "# gerar novo valor aleatório para custo_variavel\n",
        "novo_valor <- rnorm(1, mean = 12000, sd = 1000)\n",
        "\n",
        "# verificar se novo valor está acima do limite de controle\n",
        "if (novo_valor > limite_controle) {\n",
        "  mensagem <- paste(\"Novo valor\", novo_valor, \"está acima do limite de controle\", limite_controle)\n",
        "  print(mensagem)\n",
        "} else {\n",
        "  print(\"Novo valor dentro do limite de controle\")\n",
        "}\n",
        "\n"
      ],
      "metadata": {
        "colab": {
          "base_uri": "https://localhost:8080/"
        },
        "id": "GxKcTeAXw3_D",
        "outputId": "45ec59c6-dfd7-4c74-e8bc-b01c24ba71be"
      },
      "execution_count": 15,
      "outputs": [
        {
          "output_type": "stream",
          "name": "stdout",
          "text": [
            "[1] \"Novo valor 12400.7714505941 está acima do limite de controle 10815.9888891453\"\n"
          ]
        }
      ]
    },
    {
      "cell_type": "code",
      "source": [
        "# gerar dados aleatórios para custo_variavel\n",
        "set.seed(123) # definir semente para reproduzir resultados\n",
        "custo_variavel <- rnorm(12, mean = 10000, sd = 500)\n",
        "\n",
        "# calcular média móvel dos últimos 3 meses\n",
        "media_3_meses <- rollmean(custo_variavel, 3, fill = NA, align = \"right\")\n",
        "\n",
        "# definir limite de controle com base no 6 sigma\n",
        "limite_controle <- media_3_meses[length(media_3_meses)] + 4.5*sd(tail(custo_variavel, 3))\n",
        "\n",
        "# gerar novo valor aleatório para custo_variavel\n",
        "novo_valor <- rnorm(1, mean = 12000, sd = 1000)\n",
        "\n",
        "# adicionar novo valor à variável custo_variavel\n",
        "custo_variavel <- c(custo_variavel, novo_valor)\n",
        "\n",
        "# recalcular média móvel dos últimos 3 meses com novo valor\n",
        "media_3_meses <- rollmean(custo_variavel, 3, fill = NA, align = \"right\")"
      ],
      "metadata": {
        "id": "tKIm6Q9t16nx"
      },
      "execution_count": 16,
      "outputs": []
    },
    {
      "cell_type": "code",
      "source": [
        "# gerar gráfico\n",
        "par(mar = c(5, 4, 4, 6), xpd = TRUE)\n",
        "plot(Custo_total, type = \"l\", lty = 1, col = \"black\", ylim = c(0, max(Custo_total)*1.2),\n",
        "     main = \"Custo Variável\", xlab = \"Meses\", ylab = \"Custo\",\n",
        "     xaxt = \"n\", las = 1)\n",
        "axis(side = 1, at = 1:length(Custo_total), labels = 1:length(Custo_total))\n",
        "mtext(side = 1, text = \"Mês\", line = 3)\n",
        "par(new = TRUE)\n",
        "plot(media_3_meses, type = \"l\", lty = 2, col = \"red\", ylim = c(0, max(Custo_total)*1.2),\n",
        "     axes = FALSE, xlab = \"\", ylab = \"\")\n",
        "axis(side = 4, ylim = c(0, max(Custo_total)*1.2), col = \"red\", col.axis = \"red\", las = 1)\n",
        "mtext(side = 4, text = \"Média móvel dos últimos 3 meses\", line = 3, col = \"red\")\n",
        "legend(\"topleft\", legend = c(\"Custo Total\", \"Média móvel dos últimos 3 meses\"),\n",
        "       col = c(\"black\", \"red\"), lty = c(1, 2), bty = \"n\")\n",
        "abline(h = limite_controle, lty = 3, col = \"blue\")\n",
        "text(length(Custo_total), limite_controle*1.05, paste0(\"Limite de controle\\n\", round(limite_controle, 2)), pos = 3, col = \"blue\")\n"
      ],
      "metadata": {
        "colab": {
          "base_uri": "https://localhost:8080/",
          "height": 437
        },
        "id": "xmmq0H6VzqO0",
        "outputId": "fe79527d-8b44-45bf-90cc-b3924f9b46bd"
      },
      "execution_count": 17,
      "outputs": [
        {
          "output_type": "display_data",
          "data": {
            "text/plain": [
              "Plot with title “Custo Variável”"
            ],
            "image/png": "[encoded data removed]"
          },
          "metadata": {
            "image/png": {
              "width": 420,
              "height": 420
            }
          }
        }
      ]
    },
    {
      "cell_type": "markdown",
      "source": [
        "# Utilizando os dados reais da simulação."
      ],
      "metadata": {
        "id": "4qoI2v222E7a"
      }
    },
    {
      "cell_type": "markdown",
      "source": [
        "**Melhorar:** *Nessa fase, soluções são desenvolvidas e implementadas para corrigir as causas identificadas e melhorar o processo;*\n",
        "*Uma melhor forma de observar os dados é olhar em formato de tabela e coneguir identificar onde os valore deram fora, isso pode ser feito também no Excel.*"
      ],
      "metadata": {
        "id": "0SJve0Y8IIhF"
      }
    },
    {
      "cell_type": "code",
      "source": [
        "media <- mean(dados$Custo_total)\n",
        "desvio_padrao <- sd(dados$Custo_total)\n",
        "\n",
        "limite_superior <- media + 4 * desvio_padrao\n",
        "limite_inferior <- media - 4 * desvio_padrao\n",
        "\n",
        "dados$fora_6sigma <- ifelse(dados$Custo_total > limite_superior | dados$Custo_total < limite_inferior, \"Fora\", \"Dentro\")"
      ],
      "metadata": {
        "id": "8SKXBrYtDRap"
      },
      "execution_count": 18,
      "outputs": []
    },
    {
      "cell_type": "markdown",
      "source": [
        "**Controlar:** *Nessa fase, medidas são implementadas para garantir que o processo permaneça em um estado de melhoria contínua e que os objetivos e metas estabelecidos sejam alcançados e mantidos.*"
      ],
      "metadata": {
        "id": "ZIkpC0RTIj1k"
      }
    },
    {
      "cell_type": "code",
      "source": [
        "# selecionar uma amostra aleatória de linhas do data frame\n",
        "amostra <- dados[sample(nrow(dados), 10), ]\n",
        "\n",
        "# gerar a tabela com o mês, o valor e a informação se está dentro ou fora dos limites\n",
        "tabela <- data.frame(Mes = amostra$Mes, Custo_total = amostra$Custo_total, Fora_6sigma = amostra$fora_6sigma)\n",
        "tabela"
      ],
      "metadata": {
        "colab": {
          "base_uri": "https://localhost:8080/",
          "height": 412
        },
        "id": "wCXhZkJwHWQk",
        "outputId": "e82bd919-1439-48e8-9f37-69718d3ecd91"
      },
      "execution_count": 19,
      "outputs": [
        {
          "output_type": "display_data",
          "data": {
            "text/html": [
              "<table class=\"dataframe\">\n",
              "<caption>A data.frame: 10 × 3</caption>\n",
              "<thead>\n",
              "\t<tr><th scope=col>Mes</th><th scope=col>Custo_total</th><th scope=col>Fora_6sigma</th></tr>\n",
              "\t<tr><th scope=col>&lt;chr&gt;</th><th scope=col>&lt;dbl&gt;</th><th scope=col>&lt;chr&gt;</th></tr>\n",
              "</thead>\n",
              "<tbody>\n",
              "\t<tr><td>10-22</td><td>136025.9</td><td>Dentro</td></tr>\n",
              "\t<tr><td>12-22</td><td>136966.0</td><td>Dentro</td></tr>\n",
              "\t<tr><td>09-22</td><td>132297.5</td><td>Dentro</td></tr>\n",
              "\t<tr><td>02-23</td><td>136692.3</td><td>Dentro</td></tr>\n",
              "\t<tr><td>11-22</td><td>129910.0</td><td>Dentro</td></tr>\n",
              "\t<tr><td>08-22</td><td>143667.5</td><td>Dentro</td></tr>\n",
              "\t<tr><td>05-22</td><td>135751.9</td><td>Dentro</td></tr>\n",
              "\t<tr><td>06-22</td><td>135201.8</td><td>Dentro</td></tr>\n",
              "\t<tr><td>03-22</td><td>134254.8</td><td>Dentro</td></tr>\n",
              "\t<tr><td>01-23</td><td>133686.0</td><td>Dentro</td></tr>\n",
              "</tbody>\n",
              "</table>\n"
            ],
            "text/markdown": "\nA data.frame: 10 × 3\n\n| Mes &lt;chr&gt; | Custo_total &lt;dbl&gt; | Fora_6sigma &lt;chr&gt; |\n|---|---|---|\n| 10-22 | 136025.9 | Dentro |\n| 12-22 | 136966.0 | Dentro |\n| 09-22 | 132297.5 | Dentro |\n| 02-23 | 136692.3 | Dentro |\n| 11-22 | 129910.0 | Dentro |\n| 08-22 | 143667.5 | Dentro |\n| 05-22 | 135751.9 | Dentro |\n| 06-22 | 135201.8 | Dentro |\n| 03-22 | 134254.8 | Dentro |\n| 01-23 | 133686.0 | Dentro |\n\n",
            "text/latex": "A data.frame: 10 × 3\n\\begin{tabular}{lll}\n Mes & Custo\\_total & Fora\\_6sigma\\\\\n <chr> & <dbl> & <chr>\\\\\n\\hline\n\t 10-22 & 136025.9 & Dentro\\\\\n\t 12-22 & 136966.0 & Dentro\\\\\n\t 09-22 & 132297.5 & Dentro\\\\\n\t 02-23 & 136692.3 & Dentro\\\\\n\t 11-22 & 129910.0 & Dentro\\\\\n\t 08-22 & 143667.5 & Dentro\\\\\n\t 05-22 & 135751.9 & Dentro\\\\\n\t 06-22 & 135201.8 & Dentro\\\\\n\t 03-22 & 134254.8 & Dentro\\\\\n\t 01-23 & 133686.0 & Dentro\\\\\n\\end{tabular}\n",
            "text/plain": [
              "   Mes   Custo_total Fora_6sigma\n",
              "1  10-22 136025.9    Dentro     \n",
              "2  12-22 136966.0    Dentro     \n",
              "3  09-22 132297.5    Dentro     \n",
              "4  02-23 136692.3    Dentro     \n",
              "5  11-22 129910.0    Dentro     \n",
              "6  08-22 143667.5    Dentro     \n",
              "7  05-22 135751.9    Dentro     \n",
              "8  06-22 135201.8    Dentro     \n",
              "9  03-22 134254.8    Dentro     \n",
              "10 01-23 133686.0    Dentro     "
            ]
          },
          "metadata": {}
        }
      ]
    },
    {
      "cell_type": "code",
      "source": [
        "# selecionar uma amostra aleatória de linhas do data frame\n",
        "amostra <- dados[sample(nrow(dados), 10), ]\n",
        "\n",
        "# calcular limites de 6 sigma\n",
        "media <- mean(dados$Custo_total)\n",
        "desvio_padrao <- sd(dados$Custo_total)\n",
        "limite_superior <- media + 1.7 * desvio_padrao\n",
        "limite_inferior <- media - 1.7 * desvio_padrao\n",
        "\n",
        "# criar novas colunas indicando se cada valor está dentro ou fora dos limites de 6 sigma\n",
        "amostra$fora_6sigma <- ifelse(amostra$Custo_total > limite_superior | amostra$Custo_total < limite_inferior, \"Fora\", \"Dentro\")\n",
        "amostra$acima_limite_superior <- ifelse(amostra$Custo_total > limite_superior, \"Sim\", \"Não\")\n",
        "amostra$abaixo_limite_inferior <- ifelse(amostra$Custo_total < limite_inferior, \"Sim\", \"Não\")\n",
        "\n",
        "# gerar a tabela com o mês, o valor e as informações de limites\n",
        "tabela <- data.frame(Mes = amostra$Mes, Custo_total = amostra$Custo_total, Fora_6sigma = amostra$fora_6sigma, Acima_Limite_Superior = amostra$acima_limite_superior, Abaixo_Limite_Inferior = amostra$abaixo_limite_inferior)\n",
        "tabela"
      ],
      "metadata": {
        "colab": {
          "base_uri": "https://localhost:8080/",
          "height": 412
        },
        "id": "CBeRdluULhpm",
        "outputId": "006f06f6-daa5-4564-a2a7-a53f24064bab"
      },
      "execution_count": 20,
      "outputs": [
        {
          "output_type": "display_data",
          "data": {
            "text/html": [
              "<table class=\"dataframe\">\n",
              "<caption>A data.frame: 10 × 5</caption>\n",
              "<thead>\n",
              "\t<tr><th scope=col>Mes</th><th scope=col>Custo_total</th><th scope=col>Fora_6sigma</th><th scope=col>Acima_Limite_Superior</th><th scope=col>Abaixo_Limite_Inferior</th></tr>\n",
              "\t<tr><th scope=col>&lt;chr&gt;</th><th scope=col>&lt;dbl&gt;</th><th scope=col>&lt;chr&gt;</th><th scope=col>&lt;chr&gt;</th><th scope=col>&lt;chr&gt;</th></tr>\n",
              "</thead>\n",
              "<tbody>\n",
              "\t<tr><td>09-22</td><td>132297.5</td><td>Dentro</td><td>Não</td><td>Não</td></tr>\n",
              "\t<tr><td>07-22</td><td>142163.9</td><td>Fora  </td><td>Sim</td><td>Não</td></tr>\n",
              "\t<tr><td>12-22</td><td>136966.0</td><td>Dentro</td><td>Não</td><td>Não</td></tr>\n",
              "\t<tr><td>03-23</td><td>134840.9</td><td>Dentro</td><td>Não</td><td>Não</td></tr>\n",
              "\t<tr><td>11-22</td><td>129910.0</td><td>Dentro</td><td>Não</td><td>Não</td></tr>\n",
              "\t<tr><td>03-22</td><td>134254.8</td><td>Dentro</td><td>Não</td><td>Não</td></tr>\n",
              "\t<tr><td>04-22</td><td>135004.2</td><td>Dentro</td><td>Não</td><td>Não</td></tr>\n",
              "\t<tr><td>05-22</td><td>135751.9</td><td>Dentro</td><td>Não</td><td>Não</td></tr>\n",
              "\t<tr><td>06-22</td><td>135201.8</td><td>Dentro</td><td>Não</td><td>Não</td></tr>\n",
              "\t<tr><td>10-22</td><td>136025.9</td><td>Dentro</td><td>Não</td><td>Não</td></tr>\n",
              "</tbody>\n",
              "</table>\n"
            ],
            "text/markdown": "\nA data.frame: 10 × 5\n\n| Mes &lt;chr&gt; | Custo_total &lt;dbl&gt; | Fora_6sigma &lt;chr&gt; | Acima_Limite_Superior &lt;chr&gt; | Abaixo_Limite_Inferior &lt;chr&gt; |\n|---|---|---|---|---|\n| 09-22 | 132297.5 | Dentro | Não | Não |\n| 07-22 | 142163.9 | Fora   | Sim | Não |\n| 12-22 | 136966.0 | Dentro | Não | Não |\n| 03-23 | 134840.9 | Dentro | Não | Não |\n| 11-22 | 129910.0 | Dentro | Não | Não |\n| 03-22 | 134254.8 | Dentro | Não | Não |\n| 04-22 | 135004.2 | Dentro | Não | Não |\n| 05-22 | 135751.9 | Dentro | Não | Não |\n| 06-22 | 135201.8 | Dentro | Não | Não |\n| 10-22 | 136025.9 | Dentro | Não | Não |\n\n",
            "text/latex": "A data.frame: 10 × 5\n\\begin{tabular}{lllll}\n Mes & Custo\\_total & Fora\\_6sigma & Acima\\_Limite\\_Superior & Abaixo\\_Limite\\_Inferior\\\\\n <chr> & <dbl> & <chr> & <chr> & <chr>\\\\\n\\hline\n\t 09-22 & 132297.5 & Dentro & Não & Não\\\\\n\t 07-22 & 142163.9 & Fora   & Sim & Não\\\\\n\t 12-22 & 136966.0 & Dentro & Não & Não\\\\\n\t 03-23 & 134840.9 & Dentro & Não & Não\\\\\n\t 11-22 & 129910.0 & Dentro & Não & Não\\\\\n\t 03-22 & 134254.8 & Dentro & Não & Não\\\\\n\t 04-22 & 135004.2 & Dentro & Não & Não\\\\\n\t 05-22 & 135751.9 & Dentro & Não & Não\\\\\n\t 06-22 & 135201.8 & Dentro & Não & Não\\\\\n\t 10-22 & 136025.9 & Dentro & Não & Não\\\\\n\\end{tabular}\n",
            "text/plain": [
              "   Mes   Custo_total Fora_6sigma Acima_Limite_Superior Abaixo_Limite_Inferior\n",
              "1  09-22 132297.5    Dentro      Não                   Não                   \n",
              "2  07-22 142163.9    Fora        Sim                   Não                   \n",
              "3  12-22 136966.0    Dentro      Não                   Não                   \n",
              "4  03-23 134840.9    Dentro      Não                   Não                   \n",
              "5  11-22 129910.0    Dentro      Não                   Não                   \n",
              "6  03-22 134254.8    Dentro      Não                   Não                   \n",
              "7  04-22 135004.2    Dentro      Não                   Não                   \n",
              "8  05-22 135751.9    Dentro      Não                   Não                   \n",
              "9  06-22 135201.8    Dentro      Não                   Não                   \n",
              "10 10-22 136025.9    Dentro      Não                   Não                   "
            ]
          },
          "metadata": {}
        }
      ]
    },
    {
      "cell_type": "code",
      "source": [
        "media <- mean(dados$Custo_total,10 )\n",
        "desvio_padrao <- sd(dados$Custo_total)\n",
        "limite_superior_6sigma <- media + 1.7 * desvio_padrao\n"
      ],
      "metadata": {
        "id": "MSjQQ0B6gXah"
      },
      "execution_count": 21,
      "outputs": []
    },
    {
      "cell_type": "code",
      "source": [
        "orçamento_total <- 71194 # Coloquei a média do orçamento total\n",
        "dados$Acima_Orcamento <- ifelse(dados$Custo_total > orçamento_total, \"Sim\", \"Não\")\n"
      ],
      "metadata": {
        "id": "rlyPUhMJgiR_"
      },
      "execution_count": 22,
      "outputs": []
    },
    {
      "cell_type": "code",
      "source": [
        "dados_filtrados <- subset(dados, Custo_total > orçamento_total & Custo_total > limite_superior_6sigma)\n"
      ],
      "metadata": {
        "id": "v6fY3HOUhp81"
      },
      "execution_count": 23,
      "outputs": []
    },
    {
      "cell_type": "code",
      "source": [
        "tabela1 <- data.frame(Mes = dados_filtrados$Mes,\n",
        "                      Custo_total = dados_filtrados$Custo_total,\n",
        "                      Acima_Limite_Superior_6sigma = ifelse(dados_filtrados$Custo_total > limite_superior_6sigma, \"Sim\", \"Não\"),\n",
        "                      Acima_Orcamento_Total = ifelse(dados_filtrados$Custo_total > orçamento_total, \"Sim\", \"Não\"))\n",
        "tabela1\n"
      ],
      "metadata": {
        "colab": {
          "base_uri": "https://localhost:8080/",
          "height": 161
        },
        "id": "IujTiMk6hsZH",
        "outputId": "87435046-3012-4cb4-b694-3571bfb5250d"
      },
      "execution_count": 24,
      "outputs": [
        {
          "output_type": "display_data",
          "data": {
            "text/html": [
              "<table class=\"dataframe\">\n",
              "<caption>A data.frame: 2 × 4</caption>\n",
              "<thead>\n",
              "\t<tr><th scope=col>Mes</th><th scope=col>Custo_total</th><th scope=col>Acima_Limite_Superior_6sigma</th><th scope=col>Acima_Orcamento_Total</th></tr>\n",
              "\t<tr><th scope=col>&lt;chr&gt;</th><th scope=col>&lt;dbl&gt;</th><th scope=col>&lt;chr&gt;</th><th scope=col>&lt;chr&gt;</th></tr>\n",
              "</thead>\n",
              "<tbody>\n",
              "\t<tr><td>07-22</td><td>142163.9</td><td>Sim</td><td>Sim</td></tr>\n",
              "\t<tr><td>08-22</td><td>143667.5</td><td>Sim</td><td>Sim</td></tr>\n",
              "</tbody>\n",
              "</table>\n"
            ],
            "text/markdown": "\nA data.frame: 2 × 4\n\n| Mes &lt;chr&gt; | Custo_total &lt;dbl&gt; | Acima_Limite_Superior_6sigma &lt;chr&gt; | Acima_Orcamento_Total &lt;chr&gt; |\n|---|---|---|---|\n| 07-22 | 142163.9 | Sim | Sim |\n| 08-22 | 143667.5 | Sim | Sim |\n\n",
            "text/latex": "A data.frame: 2 × 4\n\\begin{tabular}{llll}\n Mes & Custo\\_total & Acima\\_Limite\\_Superior\\_6sigma & Acima\\_Orcamento\\_Total\\\\\n <chr> & <dbl> & <chr> & <chr>\\\\\n\\hline\n\t 07-22 & 142163.9 & Sim & Sim\\\\\n\t 08-22 & 143667.5 & Sim & Sim\\\\\n\\end{tabular}\n",
            "text/plain": [
              "  Mes   Custo_total Acima_Limite_Superior_6sigma Acima_Orcamento_Total\n",
              "1 07-22 142163.9    Sim                          Sim                  \n",
              "2 08-22 143667.5    Sim                          Sim                  "
            ]
          },
          "metadata": {}
        }
      ]
    }
  ]
}