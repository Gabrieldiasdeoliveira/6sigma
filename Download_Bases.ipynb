{
  "cells": [
    {
      "cell_type": "markdown",
      "metadata": {
        "id": "view-in-github",
        "colab_type": "text"
      },
      "source": [
        "<a href=\"https://colab.research.google.com/github/Gabrieldiasdeoliveira/6sigma/blob/main/Download_Bases.ipynb\" target=\"_parent\"><img src=\"https://colab.research.google.com/assets/colab-badge.svg\" alt=\"Open In Colab\"/></a>"
      ]
    },
    {
      "cell_type": "markdown",
      "metadata": {
        "id": "qGVpyMGBS9df"
      },
      "source": [
        "# Download automatico dos arquivos do churn - Rodar segundo código"
      ]
    },
    {
      "cell_type": "code",
      "source": [
        "import pandas as pd\n",
        "import datetime\n",
        "from google.colab import files\n",
        "\n",
        "# Verifica a data atual\n",
        "data_atual = datetime.datetime.now()\n",
        "\n",
        "# Carrega o arquivo Excel em um DataFrame do pandas\n",
        "caminho_arquivo = 'Seu Arquivo'\n",
        "base_032024 = pd.read_excel('Seu Arquivo')\n",
        "\n",
        "# Exibe as primeiras linhas do DataFrame\n",
        "# print(base_032024.head())\n",
        "\n",
        "# Selecionar as variáveis específicas\n",
        "base_032024 = base_032024[[\n",
        "    'Suas colunas'\n",
        "]]\n",
        "\n",
        "# Exibir as primeiras linhas da base de desconexão para verificar se os dados foram carregados corretamente\n",
        "# print(base_032024.head())\n",
        "\n",
        "# Exibir todos os nomes de colunas da base2023\n",
        "for column_name in base_032024.columns:\n",
        "    print(column_name)\n",
        "\n",
        "# Filtrar a base_desconexao para trazer apenas as linhas onde tipo_daily_flash é \"daily_flash\"\n",
        "base_032024_daily_flash = base_032024.loc[base_032024['Filtrando uma coluna '] == 'filtro']\n",
        "\n",
        "# Exibir as primeiras linhas da base_desconexao filtrada\n",
        "# print(base_032024_daily_flash.head())\n",
        "\n",
        "# Salvar a base filtrada em um arquivo CSV\n",
        "caminho_arquivo = 'nome do arquivo'\n",
        "base_032024_daily_flash.to_csv(caminho_arquivo, index=False)\n",
        "\n",
        "print(\"Base filtrada salva com sucesso em:\", caminho_arquivo)\n",
        "\n",
        "from google.colab import files\n",
        "\n",
        "# Definir o nome do arquivo\n",
        "nome_arquivo = 'seu arquivo'\n",
        "\n",
        "# Download do arquivo\n",
        "files.download(nome_arquivo)"
      ],
      "metadata": {
        "id": "bWaEQDgMQN7L"
      },
      "execution_count": null,
      "outputs": []
    }
  ],
  "metadata": {
    "colab": {
      "provenance": [],
      "authorship_tag": "ABX9TyObsjgYyllceyJ+2Ef1h+6E",
      "include_colab_link": true
    },
    "kernelspec": {
      "display_name": "Python 3",
      "name": "python3"
    },
    "language_info": {
      "name": "python"
    }
  },
  "nbformat": 4,
  "nbformat_minor": 0
}